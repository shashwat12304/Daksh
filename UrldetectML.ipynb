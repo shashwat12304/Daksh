{
  "nbformat": 4,
  "nbformat_minor": 0,
  "metadata": {
    "colab": {
      "provenance": [],
      "authorship_tag": "ABX9TyP76suim9YlPFbl/RwfGlm1",
      "include_colab_link": true
    },
    "kernelspec": {
      "name": "python3",
      "display_name": "Python 3"
    },
    "language_info": {
      "name": "python"
    }
  },
  "cells": [
    {
      "cell_type": "markdown",
      "metadata": {
        "id": "view-in-github",
        "colab_type": "text"
      },
      "source": [
        "<a href=\"https://colab.research.google.com/github/shashwat12304/Daksh/blob/main/UrldetectML.ipynb\" target=\"_parent\"><img src=\"https://colab.research.google.com/assets/colab-badge.svg\" alt=\"Open In Colab\"/></a>"
      ]
    },
    {
      "cell_type": "code",
      "execution_count": 1,
      "metadata": {
        "id": "0l_5Hnxjse5C"
      },
      "outputs": [],
      "source": [
        "import numpy as np\n",
        "import pandas as pd\n",
        "import tensorflow as tf\n",
        "import csv\n",
        "from tensorflow.keras.models import Sequential\n",
        "from tensorflow.keras.layers import  GRU\n",
        "from tensorflow.keras.preprocessing.text import Tokenizer\n",
        "from tensorflow.keras.preprocessing.sequence import pad_sequences\n",
        "from sklearn.model_selection import train_test_split\n",
        "from tensorflow.keras.layers import Embedding, SimpleRNN, Dense"
      ]
    },
    {
      "cell_type": "code",
      "source": [
        "data = pd.read_csv('urlset.csv', encoding='latin1', error_bad_lines=False)"
      ],
      "metadata": {
        "id": "OQuTpBbntJHv",
        "colab": {
          "base_uri": "https://localhost:8080/"
        },
        "outputId": "8ec726dc-e139-47ab-fac2-452b17d6ce21"
      },
      "execution_count": 2,
      "outputs": [
        {
          "output_type": "stream",
          "name": "stderr",
          "text": [
            "<ipython-input-2-8383d80b5ec4>:1: FutureWarning: The error_bad_lines argument has been deprecated and will be removed in a future version. Use on_bad_lines in the future.\n",
            "\n",
            "\n",
            "  data = pd.read_csv('urlset.csv', encoding='latin1', error_bad_lines=False)\n",
            "Skipping line 18259: expected 14 fields, saw 15\n",
            "Skipping line 18273: expected 14 fields, saw 15\n",
            "\n",
            "<ipython-input-2-8383d80b5ec4>:1: DtypeWarning: Columns (1,2,3,11,12) have mixed types. Specify dtype option on import or set low_memory=False.\n",
            "  data = pd.read_csv('urlset.csv', encoding='latin1', error_bad_lines=False)\n"
          ]
        }
      ]
    },
    {
      "cell_type": "code",
      "source": [
        "data.head(10)"
      ],
      "metadata": {
        "colab": {
          "base_uri": "https://localhost:8080/",
          "height": 444
        },
        "id": "Gw7tgkQutOx6",
        "outputId": "e5cd2f2e-11d4-4f25-e89a-6e30487958ef"
      },
      "execution_count": 3,
      "outputs": [
        {
          "output_type": "execute_result",
          "data": {
            "text/plain": [
              "                                              domain   ranking mld_res  \\\n",
              "0  nobell.it/70ffb52d079109dca5664cce6f317373782/...  10000000     1.0   \n",
              "1  www.dghjdgf.com/paypal.co.uk/cycgi-bin/webscrc...  10000000     0.0   \n",
              "2  serviciosbys.com/paypal.cgi.bin.get-into.herf....  10000000     0.0   \n",
              "3  mail.printakid.com/www.online.americanexpress....  10000000     0.0   \n",
              "4  thewhiskeydregs.com/wp-content/themes/widescre...  10000000     0.0   \n",
              "5               smilesvoegol.servebbs.org/voegol.php  10000000     0.0   \n",
              "6  premierpaymentprocessing.com/includes/boleto-2...  10000000     0.0   \n",
              "7  myxxxcollection.com/v1/js/jih321/bpd.com.do/do...  10000000     0.0   \n",
              "8                                super1000.info/docs  10000000     0.0   \n",
              "9  horizonsgallery.com/js/bin/ssl1/_id/www.paypal...  10000000     0.0   \n",
              "\n",
              "  mld.ps_res  card_rem  ratio_Rrem  ratio_Arem  jaccard_RR  jaccard_RA  \\\n",
              "0        0.0      18.0  107.611111  107.277778         0.0         0.0   \n",
              "1        0.0      11.0  150.636364  152.272727         0.0         0.0   \n",
              "2        0.0      14.0   73.500000   72.642857         0.0         0.0   \n",
              "3        0.0       6.0  562.000000  590.666667         0.0         0.0   \n",
              "4        0.0       8.0   29.000000   24.125000         0.0         0.0   \n",
              "5        0.0       2.0  223.500000  234.000000         0.0         0.0   \n",
              "6        0.0       4.0  119.000000  121.500000         0.0         0.0   \n",
              "7        0.0       4.0  160.500000  157.250000         0.0         0.0   \n",
              "8        0.0       1.0   21.000000   13.000000         0.0         0.0   \n",
              "9        0.0      16.0  142.375000  142.500000         0.0         0.0   \n",
              "\n",
              "   jaccard_AR  jaccard_AA jaccard_ARrd jaccard_ARrem  label  \n",
              "0         0.0         0.0          0.8      0.795729    1.0  \n",
              "1         0.0         0.0            0      0.768577    1.0  \n",
              "2         0.0         0.0            0      0.726582    1.0  \n",
              "3         0.0         0.0            0       0.85964    1.0  \n",
              "4         0.0         0.0            0      0.748971    1.0  \n",
              "5         0.0         0.0            0      0.852227    1.0  \n",
              "6         0.0         0.0            0      0.853565    1.0  \n",
              "7         0.0         0.0            0      0.777622    1.0  \n",
              "8         0.0         0.0            0          0.36    1.0  \n",
              "9         0.0         0.0            0      0.803006    1.0  "
            ],
            "text/html": [
              "\n",
              "\n",
              "  <div id=\"df-8c8b3a25-310a-402b-b792-2902d807f404\">\n",
              "    <div class=\"colab-df-container\">\n",
              "      <div>\n",
              "<style scoped>\n",
              "    .dataframe tbody tr th:only-of-type {\n",
              "        vertical-align: middle;\n",
              "    }\n",
              "\n",
              "    .dataframe tbody tr th {\n",
              "        vertical-align: top;\n",
              "    }\n",
              "\n",
              "    .dataframe thead th {\n",
              "        text-align: right;\n",
              "    }\n",
              "</style>\n",
              "<table border=\"1\" class=\"dataframe\">\n",
              "  <thead>\n",
              "    <tr style=\"text-align: right;\">\n",
              "      <th></th>\n",
              "      <th>domain</th>\n",
              "      <th>ranking</th>\n",
              "      <th>mld_res</th>\n",
              "      <th>mld.ps_res</th>\n",
              "      <th>card_rem</th>\n",
              "      <th>ratio_Rrem</th>\n",
              "      <th>ratio_Arem</th>\n",
              "      <th>jaccard_RR</th>\n",
              "      <th>jaccard_RA</th>\n",
              "      <th>jaccard_AR</th>\n",
              "      <th>jaccard_AA</th>\n",
              "      <th>jaccard_ARrd</th>\n",
              "      <th>jaccard_ARrem</th>\n",
              "      <th>label</th>\n",
              "    </tr>\n",
              "  </thead>\n",
              "  <tbody>\n",
              "    <tr>\n",
              "      <th>0</th>\n",
              "      <td>nobell.it/70ffb52d079109dca5664cce6f317373782/...</td>\n",
              "      <td>10000000</td>\n",
              "      <td>1.0</td>\n",
              "      <td>0.0</td>\n",
              "      <td>18.0</td>\n",
              "      <td>107.611111</td>\n",
              "      <td>107.277778</td>\n",
              "      <td>0.0</td>\n",
              "      <td>0.0</td>\n",
              "      <td>0.0</td>\n",
              "      <td>0.0</td>\n",
              "      <td>0.8</td>\n",
              "      <td>0.795729</td>\n",
              "      <td>1.0</td>\n",
              "    </tr>\n",
              "    <tr>\n",
              "      <th>1</th>\n",
              "      <td>www.dghjdgf.com/paypal.co.uk/cycgi-bin/webscrc...</td>\n",
              "      <td>10000000</td>\n",
              "      <td>0.0</td>\n",
              "      <td>0.0</td>\n",
              "      <td>11.0</td>\n",
              "      <td>150.636364</td>\n",
              "      <td>152.272727</td>\n",
              "      <td>0.0</td>\n",
              "      <td>0.0</td>\n",
              "      <td>0.0</td>\n",
              "      <td>0.0</td>\n",
              "      <td>0</td>\n",
              "      <td>0.768577</td>\n",
              "      <td>1.0</td>\n",
              "    </tr>\n",
              "    <tr>\n",
              "      <th>2</th>\n",
              "      <td>serviciosbys.com/paypal.cgi.bin.get-into.herf....</td>\n",
              "      <td>10000000</td>\n",
              "      <td>0.0</td>\n",
              "      <td>0.0</td>\n",
              "      <td>14.0</td>\n",
              "      <td>73.500000</td>\n",
              "      <td>72.642857</td>\n",
              "      <td>0.0</td>\n",
              "      <td>0.0</td>\n",
              "      <td>0.0</td>\n",
              "      <td>0.0</td>\n",
              "      <td>0</td>\n",
              "      <td>0.726582</td>\n",
              "      <td>1.0</td>\n",
              "    </tr>\n",
              "    <tr>\n",
              "      <th>3</th>\n",
              "      <td>mail.printakid.com/www.online.americanexpress....</td>\n",
              "      <td>10000000</td>\n",
              "      <td>0.0</td>\n",
              "      <td>0.0</td>\n",
              "      <td>6.0</td>\n",
              "      <td>562.000000</td>\n",
              "      <td>590.666667</td>\n",
              "      <td>0.0</td>\n",
              "      <td>0.0</td>\n",
              "      <td>0.0</td>\n",
              "      <td>0.0</td>\n",
              "      <td>0</td>\n",
              "      <td>0.85964</td>\n",
              "      <td>1.0</td>\n",
              "    </tr>\n",
              "    <tr>\n",
              "      <th>4</th>\n",
              "      <td>thewhiskeydregs.com/wp-content/themes/widescre...</td>\n",
              "      <td>10000000</td>\n",
              "      <td>0.0</td>\n",
              "      <td>0.0</td>\n",
              "      <td>8.0</td>\n",
              "      <td>29.000000</td>\n",
              "      <td>24.125000</td>\n",
              "      <td>0.0</td>\n",
              "      <td>0.0</td>\n",
              "      <td>0.0</td>\n",
              "      <td>0.0</td>\n",
              "      <td>0</td>\n",
              "      <td>0.748971</td>\n",
              "      <td>1.0</td>\n",
              "    </tr>\n",
              "    <tr>\n",
              "      <th>5</th>\n",
              "      <td>smilesvoegol.servebbs.org/voegol.php</td>\n",
              "      <td>10000000</td>\n",
              "      <td>0.0</td>\n",
              "      <td>0.0</td>\n",
              "      <td>2.0</td>\n",
              "      <td>223.500000</td>\n",
              "      <td>234.000000</td>\n",
              "      <td>0.0</td>\n",
              "      <td>0.0</td>\n",
              "      <td>0.0</td>\n",
              "      <td>0.0</td>\n",
              "      <td>0</td>\n",
              "      <td>0.852227</td>\n",
              "      <td>1.0</td>\n",
              "    </tr>\n",
              "    <tr>\n",
              "      <th>6</th>\n",
              "      <td>premierpaymentprocessing.com/includes/boleto-2...</td>\n",
              "      <td>10000000</td>\n",
              "      <td>0.0</td>\n",
              "      <td>0.0</td>\n",
              "      <td>4.0</td>\n",
              "      <td>119.000000</td>\n",
              "      <td>121.500000</td>\n",
              "      <td>0.0</td>\n",
              "      <td>0.0</td>\n",
              "      <td>0.0</td>\n",
              "      <td>0.0</td>\n",
              "      <td>0</td>\n",
              "      <td>0.853565</td>\n",
              "      <td>1.0</td>\n",
              "    </tr>\n",
              "    <tr>\n",
              "      <th>7</th>\n",
              "      <td>myxxxcollection.com/v1/js/jih321/bpd.com.do/do...</td>\n",
              "      <td>10000000</td>\n",
              "      <td>0.0</td>\n",
              "      <td>0.0</td>\n",
              "      <td>4.0</td>\n",
              "      <td>160.500000</td>\n",
              "      <td>157.250000</td>\n",
              "      <td>0.0</td>\n",
              "      <td>0.0</td>\n",
              "      <td>0.0</td>\n",
              "      <td>0.0</td>\n",
              "      <td>0</td>\n",
              "      <td>0.777622</td>\n",
              "      <td>1.0</td>\n",
              "    </tr>\n",
              "    <tr>\n",
              "      <th>8</th>\n",
              "      <td>super1000.info/docs</td>\n",
              "      <td>10000000</td>\n",
              "      <td>0.0</td>\n",
              "      <td>0.0</td>\n",
              "      <td>1.0</td>\n",
              "      <td>21.000000</td>\n",
              "      <td>13.000000</td>\n",
              "      <td>0.0</td>\n",
              "      <td>0.0</td>\n",
              "      <td>0.0</td>\n",
              "      <td>0.0</td>\n",
              "      <td>0</td>\n",
              "      <td>0.36</td>\n",
              "      <td>1.0</td>\n",
              "    </tr>\n",
              "    <tr>\n",
              "      <th>9</th>\n",
              "      <td>horizonsgallery.com/js/bin/ssl1/_id/www.paypal...</td>\n",
              "      <td>10000000</td>\n",
              "      <td>0.0</td>\n",
              "      <td>0.0</td>\n",
              "      <td>16.0</td>\n",
              "      <td>142.375000</td>\n",
              "      <td>142.500000</td>\n",
              "      <td>0.0</td>\n",
              "      <td>0.0</td>\n",
              "      <td>0.0</td>\n",
              "      <td>0.0</td>\n",
              "      <td>0</td>\n",
              "      <td>0.803006</td>\n",
              "      <td>1.0</td>\n",
              "    </tr>\n",
              "  </tbody>\n",
              "</table>\n",
              "</div>\n",
              "      <button class=\"colab-df-convert\" onclick=\"convertToInteractive('df-8c8b3a25-310a-402b-b792-2902d807f404')\"\n",
              "              title=\"Convert this dataframe to an interactive table.\"\n",
              "              style=\"display:none;\">\n",
              "\n",
              "  <svg xmlns=\"http://www.w3.org/2000/svg\" height=\"24px\"viewBox=\"0 0 24 24\"\n",
              "       width=\"24px\">\n",
              "    <path d=\"M0 0h24v24H0V0z\" fill=\"none\"/>\n",
              "    <path d=\"M18.56 5.44l.94 2.06.94-2.06 2.06-.94-2.06-.94-.94-2.06-.94 2.06-2.06.94zm-11 1L8.5 8.5l.94-2.06 2.06-.94-2.06-.94L8.5 2.5l-.94 2.06-2.06.94zm10 10l.94 2.06.94-2.06 2.06-.94-2.06-.94-.94-2.06-.94 2.06-2.06.94z\"/><path d=\"M17.41 7.96l-1.37-1.37c-.4-.4-.92-.59-1.43-.59-.52 0-1.04.2-1.43.59L10.3 9.45l-7.72 7.72c-.78.78-.78 2.05 0 2.83L4 21.41c.39.39.9.59 1.41.59.51 0 1.02-.2 1.41-.59l7.78-7.78 2.81-2.81c.8-.78.8-2.07 0-2.86zM5.41 20L4 18.59l7.72-7.72 1.47 1.35L5.41 20z\"/>\n",
              "  </svg>\n",
              "      </button>\n",
              "\n",
              "\n",
              "\n",
              "    <div id=\"df-08d51c29-be0c-42a1-a1ba-cd49d28fdd48\">\n",
              "      <button class=\"colab-df-quickchart\" onclick=\"quickchart('df-08d51c29-be0c-42a1-a1ba-cd49d28fdd48')\"\n",
              "              title=\"Suggest charts.\"\n",
              "              style=\"display:none;\">\n",
              "\n",
              "<svg xmlns=\"http://www.w3.org/2000/svg\" height=\"24px\"viewBox=\"0 0 24 24\"\n",
              "     width=\"24px\">\n",
              "    <g>\n",
              "        <path d=\"M19 3H5c-1.1 0-2 .9-2 2v14c0 1.1.9 2 2 2h14c1.1 0 2-.9 2-2V5c0-1.1-.9-2-2-2zM9 17H7v-7h2v7zm4 0h-2V7h2v10zm4 0h-2v-4h2v4z\"/>\n",
              "    </g>\n",
              "</svg>\n",
              "      </button>\n",
              "    </div>\n",
              "\n",
              "<style>\n",
              "  .colab-df-quickchart {\n",
              "    background-color: #E8F0FE;\n",
              "    border: none;\n",
              "    border-radius: 50%;\n",
              "    cursor: pointer;\n",
              "    display: none;\n",
              "    fill: #1967D2;\n",
              "    height: 32px;\n",
              "    padding: 0 0 0 0;\n",
              "    width: 32px;\n",
              "  }\n",
              "\n",
              "  .colab-df-quickchart:hover {\n",
              "    background-color: #E2EBFA;\n",
              "    box-shadow: 0px 1px 2px rgba(60, 64, 67, 0.3), 0px 1px 3px 1px rgba(60, 64, 67, 0.15);\n",
              "    fill: #174EA6;\n",
              "  }\n",
              "\n",
              "  [theme=dark] .colab-df-quickchart {\n",
              "    background-color: #3B4455;\n",
              "    fill: #D2E3FC;\n",
              "  }\n",
              "\n",
              "  [theme=dark] .colab-df-quickchart:hover {\n",
              "    background-color: #434B5C;\n",
              "    box-shadow: 0px 1px 3px 1px rgba(0, 0, 0, 0.15);\n",
              "    filter: drop-shadow(0px 1px 2px rgba(0, 0, 0, 0.3));\n",
              "    fill: #FFFFFF;\n",
              "  }\n",
              "</style>\n",
              "\n",
              "    <script>\n",
              "      async function quickchart(key) {\n",
              "        const containerElement = document.querySelector('#' + key);\n",
              "        const charts = await google.colab.kernel.invokeFunction(\n",
              "            'suggestCharts', [key], {});\n",
              "      }\n",
              "    </script>\n",
              "\n",
              "      <script>\n",
              "\n",
              "function displayQuickchartButton(domScope) {\n",
              "  let quickchartButtonEl =\n",
              "    domScope.querySelector('#df-08d51c29-be0c-42a1-a1ba-cd49d28fdd48 button.colab-df-quickchart');\n",
              "  quickchartButtonEl.style.display =\n",
              "    google.colab.kernel.accessAllowed ? 'block' : 'none';\n",
              "}\n",
              "\n",
              "        displayQuickchartButton(document);\n",
              "      </script>\n",
              "      <style>\n",
              "    .colab-df-container {\n",
              "      display:flex;\n",
              "      flex-wrap:wrap;\n",
              "      gap: 12px;\n",
              "    }\n",
              "\n",
              "    .colab-df-convert {\n",
              "      background-color: #E8F0FE;\n",
              "      border: none;\n",
              "      border-radius: 50%;\n",
              "      cursor: pointer;\n",
              "      display: none;\n",
              "      fill: #1967D2;\n",
              "      height: 32px;\n",
              "      padding: 0 0 0 0;\n",
              "      width: 32px;\n",
              "    }\n",
              "\n",
              "    .colab-df-convert:hover {\n",
              "      background-color: #E2EBFA;\n",
              "      box-shadow: 0px 1px 2px rgba(60, 64, 67, 0.3), 0px 1px 3px 1px rgba(60, 64, 67, 0.15);\n",
              "      fill: #174EA6;\n",
              "    }\n",
              "\n",
              "    [theme=dark] .colab-df-convert {\n",
              "      background-color: #3B4455;\n",
              "      fill: #D2E3FC;\n",
              "    }\n",
              "\n",
              "    [theme=dark] .colab-df-convert:hover {\n",
              "      background-color: #434B5C;\n",
              "      box-shadow: 0px 1px 3px 1px rgba(0, 0, 0, 0.15);\n",
              "      filter: drop-shadow(0px 1px 2px rgba(0, 0, 0, 0.3));\n",
              "      fill: #FFFFFF;\n",
              "    }\n",
              "  </style>\n",
              "\n",
              "      <script>\n",
              "        const buttonEl =\n",
              "          document.querySelector('#df-8c8b3a25-310a-402b-b792-2902d807f404 button.colab-df-convert');\n",
              "        buttonEl.style.display =\n",
              "          google.colab.kernel.accessAllowed ? 'block' : 'none';\n",
              "\n",
              "        async function convertToInteractive(key) {\n",
              "          const element = document.querySelector('#df-8c8b3a25-310a-402b-b792-2902d807f404');\n",
              "          const dataTable =\n",
              "            await google.colab.kernel.invokeFunction('convertToInteractive',\n",
              "                                                     [key], {});\n",
              "          if (!dataTable) return;\n",
              "\n",
              "          const docLinkHtml = 'Like what you see? Visit the ' +\n",
              "            '<a target=\"_blank\" href=https://colab.research.google.com/notebooks/data_table.ipynb>data table notebook</a>'\n",
              "            + ' to learn more about interactive tables.';\n",
              "          element.innerHTML = '';\n",
              "          dataTable['output_type'] = 'display_data';\n",
              "          await google.colab.output.renderOutput(dataTable, element);\n",
              "          const docLink = document.createElement('div');\n",
              "          docLink.innerHTML = docLinkHtml;\n",
              "          element.appendChild(docLink);\n",
              "        }\n",
              "      </script>\n",
              "    </div>\n",
              "  </div>\n"
            ]
          },
          "metadata": {},
          "execution_count": 3
        }
      ]
    },
    {
      "cell_type": "code",
      "source": [
        "data.shape"
      ],
      "metadata": {
        "colab": {
          "base_uri": "https://localhost:8080/"
        },
        "id": "6uuOxNu_tTKN",
        "outputId": "8dc2727f-b4aa-4057-a9c4-957e6837dcfe"
      },
      "execution_count": 4,
      "outputs": [
        {
          "output_type": "execute_result",
          "data": {
            "text/plain": [
              "(96005, 14)"
            ]
          },
          "metadata": {},
          "execution_count": 4
        }
      ]
    },
    {
      "cell_type": "code",
      "source": [
        "data.info()"
      ],
      "metadata": {
        "colab": {
          "base_uri": "https://localhost:8080/"
        },
        "id": "Buqy7IPBtVgQ",
        "outputId": "093c7eb6-6453-4384-808f-f2ef29722387"
      },
      "execution_count": 5,
      "outputs": [
        {
          "output_type": "stream",
          "name": "stdout",
          "text": [
            "<class 'pandas.core.frame.DataFrame'>\n",
            "RangeIndex: 96005 entries, 0 to 96004\n",
            "Data columns (total 14 columns):\n",
            " #   Column         Non-Null Count  Dtype  \n",
            "---  ------         --------------  -----  \n",
            " 0   domain         96005 non-null  object \n",
            " 1   ranking        95953 non-null  object \n",
            " 2   mld_res        95935 non-null  object \n",
            " 3   mld.ps_res     95924 non-null  object \n",
            " 4   card_rem       95923 non-null  float64\n",
            " 5   ratio_Rrem     95923 non-null  float64\n",
            " 6   ratio_Arem     95923 non-null  float64\n",
            " 7   jaccard_RR     95922 non-null  float64\n",
            " 8   jaccard_RA     95921 non-null  float64\n",
            " 9   jaccard_AR     95920 non-null  float64\n",
            " 10  jaccard_AA     95919 non-null  float64\n",
            " 11  jaccard_ARrd   95919 non-null  object \n",
            " 12  jaccard_ARrem  95917 non-null  object \n",
            " 13  label          95913 non-null  float64\n",
            "dtypes: float64(8), object(6)\n",
            "memory usage: 10.3+ MB\n"
          ]
        }
      ]
    },
    {
      "cell_type": "code",
      "source": [
        "data = data.dropna()"
      ],
      "metadata": {
        "id": "fC-6MmN7t_dV"
      },
      "execution_count": 6,
      "outputs": []
    },
    {
      "cell_type": "code",
      "source": [
        "data.info()"
      ],
      "metadata": {
        "colab": {
          "base_uri": "https://localhost:8080/"
        },
        "id": "osW80DZ054oh",
        "outputId": "9aaba1a4-63fa-4811-f3cc-4eaff3db1895"
      },
      "execution_count": 7,
      "outputs": [
        {
          "output_type": "stream",
          "name": "stdout",
          "text": [
            "<class 'pandas.core.frame.DataFrame'>\n",
            "Int64Index: 95913 entries, 0 to 96004\n",
            "Data columns (total 14 columns):\n",
            " #   Column         Non-Null Count  Dtype  \n",
            "---  ------         --------------  -----  \n",
            " 0   domain         95913 non-null  object \n",
            " 1   ranking        95913 non-null  object \n",
            " 2   mld_res        95913 non-null  object \n",
            " 3   mld.ps_res     95913 non-null  object \n",
            " 4   card_rem       95913 non-null  float64\n",
            " 5   ratio_Rrem     95913 non-null  float64\n",
            " 6   ratio_Arem     95913 non-null  float64\n",
            " 7   jaccard_RR     95913 non-null  float64\n",
            " 8   jaccard_RA     95913 non-null  float64\n",
            " 9   jaccard_AR     95913 non-null  float64\n",
            " 10  jaccard_AA     95913 non-null  float64\n",
            " 11  jaccard_ARrd   95913 non-null  object \n",
            " 12  jaccard_ARrem  95913 non-null  object \n",
            " 13  label          95913 non-null  float64\n",
            "dtypes: float64(8), object(6)\n",
            "memory usage: 11.0+ MB\n"
          ]
        }
      ]
    },
    {
      "cell_type": "code",
      "source": [
        "X = data.drop(columns=['label'])\n",
        "y = data['label']"
      ],
      "metadata": {
        "id": "GSjHISRquCQc"
      },
      "execution_count": 8,
      "outputs": []
    },
    {
      "cell_type": "code",
      "source": [
        "X_train, X_test, y_train, y_test = train_test_split(X, y, test_size=0.2, random_state=42)"
      ],
      "metadata": {
        "id": "KOCLIwvuw1Yx"
      },
      "execution_count": 10,
      "outputs": []
    },
    {
      "cell_type": "code",
      "source": [
        "data['label'].value_counts().plot.bar(color='blue')"
      ],
      "metadata": {
        "colab": {
          "base_uri": "https://localhost:8080/",
          "height": 457
        },
        "id": "_-J0J-KDuLMR",
        "outputId": "4ff82348-2f86-42a6-f9c9-7d87e9432652"
      },
      "execution_count": 11,
      "outputs": [
        {
          "output_type": "execute_result",
          "data": {
            "text/plain": [
              "<Axes: >"
            ]
          },
          "metadata": {},
          "execution_count": 11
        },
        {
          "output_type": "display_data",
          "data": {
            "text/plain": [
              "<Figure size 640x480 with 1 Axes>"
            ],
            "image/png": "[encoded data removed]"
          },
          "metadata": {}
        }
      ]
    },
    {
      "cell_type": "code",
      "source": [
        "urls = data['domain'].tolist()\n",
        "labels = data['label'].values"
      ],
      "metadata": {
        "id": "-d734N7cubd-"
      },
      "execution_count": 12,
      "outputs": []
    },
    {
      "cell_type": "code",
      "source": [
        "train_data, test_data = data['domain'], data['label']"
      ],
      "metadata": {
        "id": "s2VkWNxTuiwQ"
      },
      "execution_count": 13,
      "outputs": []
    },
    {
      "cell_type": "code",
      "source": [
        "print(type(train_data))\n",
        "print(next(iter(train_data)))"
      ],
      "metadata": {
        "colab": {
          "base_uri": "https://localhost:8080/"
        },
        "id": "b9L_bb1mvJKj",
        "outputId": "68c2f9d0-cd96-4609-f649-0c53b099c361"
      },
      "execution_count": 14,
      "outputs": [
        {
          "output_type": "stream",
          "name": "stdout",
          "text": [
            "<class 'pandas.core.series.Series'>\n",
            "nobell.it/70ffb52d079109dca5664cce6f317373782/login.SkyPe.com/en/cgi-bin/verification/login/70ffb52d079109dca5664cce6f317373/index.php?cmd=_profile-ach&outdated_page_tmpl=p/gen/failed-to-load&nav=0.5.1&login_access=1322408526\n"
          ]
        }
      ]
    },
    {
      "cell_type": "code",
      "source": [
        "training_sentences = []\n",
        "training_labels = []\n",
        "\n",
        "for s in train_data:\n",
        "    training_sentences.append(str(s))\n",
        "    train_data = data['domain']\n",
        "labels = data['label']\n",
        "training_sentences = train_data.values.tolist()\n",
        "training_labels = labels.values.tolist()\n",
        "\n",
        "testing_sentences = []\n",
        "testing_labels = []\n",
        "\n",
        "for s in test_data:\n",
        "    testing_sentences.append(str(s))\n",
        "    test_data = data['domain']\n",
        "labels = data['label']\n",
        "testing_sentences = test_data.values.tolist()\n",
        "testing_labels = labels.values.tolist()"
      ],
      "metadata": {
        "id": "h2DxKniK07pl"
      },
      "execution_count": 15,
      "outputs": []
    },
    {
      "cell_type": "code",
      "source": [
        "training_labels_final = np.array(training_labels)\n",
        "testing_labels_final = np.array(testing_labels)"
      ],
      "metadata": {
        "id": "ULRLqMEY1LFX"
      },
      "execution_count": 16,
      "outputs": []
    },
    {
      "cell_type": "code",
      "source": [
        "vocab_size = 10000\n",
        "embedding_dim=16\n",
        "max_length = 120\n",
        "trunc_type= 'post'\n",
        "oov_tok=\"\""
      ],
      "metadata": {
        "id": "AomsMar91PUa"
      },
      "execution_count": 17,
      "outputs": []
    },
    {
      "cell_type": "code",
      "source": [
        "from tensorflow.keras.preprocessing.text import Tokenizer\n",
        "from tensorflow.keras.preprocessing.sequence import pad_sequences\n",
        "from tensorflow.keras.preprocessing.text import Tokenizer\n",
        "tokenizer = Tokenizer(num_words=vocab_size, oov_token=oov_tok)\n",
        "tokenizer.fit_on_texts(training_sentences)\n",
        "word_index = tokenizer.word_index"
      ],
      "metadata": {
        "id": "LIfUw4lM1YMr"
      },
      "execution_count": 18,
      "outputs": []
    },
    {
      "cell_type": "code",
      "source": [
        "print(word_index)"
      ],
      "metadata": {
        "colab": {
          "base_uri": "https://localhost:8080/"
        },
        "id": "Ar_XHmcg1tPG",
        "outputId": "4c37e084-7d1b-4d41-f6a4-865066cb5c12"
      },
      "execution_count": 19,
      "outputs": [
        {
          "output_type": "stream",
          "name": "stderr",
          "text": [
            "IOPub data rate exceeded.\n",
            "The notebook server will temporarily stop sending output\n",
            "to the client in order to avoid crashing it.\n",
            "To change this limit, set the config variable\n",
            "`--NotebookApp.iopub_data_rate_limit`.\n",
            "\n",
            "Current values:\n",
            "NotebookApp.iopub_data_rate_limit=1000000.0 (bytes/sec)\n",
            "NotebookApp.rate_limit_window=3.0 (secs)\n",
            "\n"
          ]
        }
      ]
    },
    {
      "cell_type": "code",
      "source": [
        "sequences = tokenizer.texts_to_sequences(training_sentences)\n",
        "padded = pad_sequences(sequences, maxlen=max_length, truncating = trunc_type)\n",
        "testing_sequences = tokenizer.texts_to_sequences(testing_sentences)\n",
        "testing_padded = pad_sequences(testing_sequences, maxlen=max_length)"
      ],
      "metadata": {
        "id": "4Q2cObZ312v9"
      },
      "execution_count": 20,
      "outputs": []
    },
    {
      "cell_type": "code",
      "source": [
        "model = tf.keras.Sequential([\n",
        "    tf.keras.layers.Embedding(vocab_size, embedding_dim,\n",
        "                             input_length=max_length),\n",
        "    tf.keras.layers.SimpleRNN(32),\n",
        "    tf.keras.layers.Dense(10, activation='relu'),\n",
        "    tf.keras.layers.Dense(1, activation='sigmoid')\n",
        "])\n",
        "model.summary()"
      ],
      "metadata": {
        "colab": {
          "base_uri": "https://localhost:8080/"
        },
        "id": "_VVKiUN62A2w",
        "outputId": "db5d3786-09ae-41de-e7c6-4d84879c19b4"
      },
      "execution_count": 21,
      "outputs": [
        {
          "output_type": "stream",
          "name": "stdout",
          "text": [
            "Model: \"sequential\"\n",
            "_________________________________________________________________\n",
            " Layer (type)                Output Shape              Param #   \n",
            "=================================================================\n",
            " embedding (Embedding)       (None, 120, 16)           160000    \n",
            "                                                                 \n",
            " simple_rnn (SimpleRNN)      (None, 32)                1568      \n",
            "                                                                 \n",
            " dense (Dense)               (None, 10)                330       \n",
            "                                                                 \n",
            " dense_1 (Dense)             (None, 1)                 11        \n",
            "                                                                 \n",
            "=================================================================\n",
            "Total params: 161,909\n",
            "Trainable params: 161,909\n",
            "Non-trainable params: 0\n",
            "_________________________________________________________________\n"
          ]
        }
      ]
    },
    {
      "cell_type": "code",
      "source": [
        "model.compile(loss='binary_crossentropy',optimizer='adam',metrics=['accuracy'])"
      ],
      "metadata": {
        "id": "6ypPKqQl2Cx_"
      },
      "execution_count": 22,
      "outputs": []
    },
    {
      "cell_type": "code",
      "source": [
        "num_epochs=30\n",
        "history=model.fit(padded, training_labels_final, epochs=num_epochs, validation_data = (testing_padded, testing_labels_final))"
      ],
      "metadata": {
        "colab": {
          "base_uri": "https://localhost:8080/"
        },
        "id": "TQiIcyux7e9Q",
        "outputId": "40a0b6c7-2f49-4411-8462-a2044ac648b1"
      },
      "execution_count": 23,
      "outputs": [
        {
          "output_type": "stream",
          "name": "stdout",
          "text": [
            "Epoch 1/30\n",
            "2998/2998 [==============================] - 141s 46ms/step - loss: 0.1119 - accuracy: 0.9564 - val_loss: 0.0484 - val_accuracy: 0.9837\n",
            "Epoch 2/30\n",
            "2998/2998 [==============================] - 141s 47ms/step - loss: 0.0498 - accuracy: 0.9822 - val_loss: 0.0371 - val_accuracy: 0.9879\n",
            "Epoch 3/30\n",
            "2998/2998 [==============================] - 139s 46ms/step - loss: 0.0425 - accuracy: 0.9848 - val_loss: 0.0336 - val_accuracy: 0.9879\n",
            "Epoch 4/30\n",
            "2998/2998 [==============================] - 119s 40ms/step - loss: 0.0381 - accuracy: 0.9864 - val_loss: 0.0286 - val_accuracy: 0.9903\n",
            "Epoch 5/30\n",
            "2998/2998 [==============================] - 119s 40ms/step - loss: 0.0340 - accuracy: 0.9877 - val_loss: 0.0264 - val_accuracy: 0.9914\n",
            "Epoch 6/30\n",
            "2998/2998 [==============================] - 120s 40ms/step - loss: 0.0320 - accuracy: 0.9889 - val_loss: 0.0258 - val_accuracy: 0.9911\n",
            "Epoch 7/30\n",
            "2998/2998 [==============================] - 144s 48ms/step - loss: 0.0387 - accuracy: 0.9866 - val_loss: 0.0266 - val_accuracy: 0.9909\n",
            "Epoch 8/30\n",
            "2998/2998 [==============================] - 127s 42ms/step - loss: 0.0291 - accuracy: 0.9895 - val_loss: 0.0242 - val_accuracy: 0.9918\n",
            "Epoch 9/30\n",
            "2998/2998 [==============================] - 122s 41ms/step - loss: 0.0320 - accuracy: 0.9883 - val_loss: 0.0249 - val_accuracy: 0.9912\n",
            "Epoch 10/30\n",
            "2998/2998 [==============================] - 139s 46ms/step - loss: 0.0267 - accuracy: 0.9903 - val_loss: 0.0226 - val_accuracy: 0.9921\n",
            "Epoch 11/30\n",
            "2998/2998 [==============================] - 140s 47ms/step - loss: 0.0265 - accuracy: 0.9903 - val_loss: 0.0242 - val_accuracy: 0.9909\n",
            "Epoch 12/30\n",
            "2998/2998 [==============================] - 122s 41ms/step - loss: 0.0250 - accuracy: 0.9912 - val_loss: 0.0307 - val_accuracy: 0.9887\n",
            "Epoch 13/30\n",
            "2998/2998 [==============================] - 122s 41ms/step - loss: 0.0241 - accuracy: 0.9914 - val_loss: 0.0203 - val_accuracy: 0.9929\n",
            "Epoch 14/30\n",
            "2998/2998 [==============================] - 139s 46ms/step - loss: 0.0237 - accuracy: 0.9915 - val_loss: 0.0215 - val_accuracy: 0.9923\n",
            "Epoch 15/30\n",
            "2998/2998 [==============================] - 122s 41ms/step - loss: 0.0224 - accuracy: 0.9918 - val_loss: 0.0210 - val_accuracy: 0.9928\n",
            "Epoch 16/30\n",
            "2998/2998 [==============================] - 120s 40ms/step - loss: 0.0218 - accuracy: 0.9922 - val_loss: 0.0194 - val_accuracy: 0.9928\n",
            "Epoch 17/30\n",
            "2998/2998 [==============================] - 120s 40ms/step - loss: 0.0209 - accuracy: 0.9924 - val_loss: 0.0191 - val_accuracy: 0.9930\n",
            "Epoch 18/30\n",
            "2998/2998 [==============================] - 119s 40ms/step - loss: 0.0202 - accuracy: 0.9925 - val_loss: 0.0192 - val_accuracy: 0.9933\n",
            "Epoch 19/30\n",
            "2998/2998 [==============================] - 120s 40ms/step - loss: 0.0204 - accuracy: 0.9927 - val_loss: 0.0172 - val_accuracy: 0.9940\n",
            "Epoch 20/30\n",
            "2998/2998 [==============================] - 139s 46ms/step - loss: 0.0191 - accuracy: 0.9930 - val_loss: 0.0177 - val_accuracy: 0.9937\n",
            "Epoch 21/30\n",
            "2998/2998 [==============================] - 138s 46ms/step - loss: 0.0186 - accuracy: 0.9930 - val_loss: 0.0181 - val_accuracy: 0.9937\n",
            "Epoch 22/30\n",
            "2998/2998 [==============================] - 137s 46ms/step - loss: 0.0198 - accuracy: 0.9930 - val_loss: 0.0169 - val_accuracy: 0.9940\n",
            "Epoch 23/30\n",
            "2998/2998 [==============================] - 119s 40ms/step - loss: 0.0175 - accuracy: 0.9935 - val_loss: 0.0162 - val_accuracy: 0.9943\n",
            "Epoch 24/30\n",
            "2998/2998 [==============================] - 119s 40ms/step - loss: 0.0174 - accuracy: 0.9936 - val_loss: 0.0167 - val_accuracy: 0.9944\n",
            "Epoch 25/30\n",
            "2998/2998 [==============================] - 137s 46ms/step - loss: 0.0177 - accuracy: 0.9936 - val_loss: 0.0152 - val_accuracy: 0.9945\n",
            "Epoch 26/30\n",
            "2998/2998 [==============================] - 138s 46ms/step - loss: 0.0166 - accuracy: 0.9939 - val_loss: 0.0161 - val_accuracy: 0.9941\n",
            "Epoch 27/30\n",
            "2998/2998 [==============================] - 138s 46ms/step - loss: 0.0168 - accuracy: 0.9935 - val_loss: 0.0153 - val_accuracy: 0.9942\n",
            "Epoch 28/30\n",
            "2998/2998 [==============================] - 118s 39ms/step - loss: 0.0311 - accuracy: 0.9894 - val_loss: 0.0243 - val_accuracy: 0.9916\n",
            "Epoch 29/30\n",
            "2998/2998 [==============================] - 137s 46ms/step - loss: 0.0246 - accuracy: 0.9910 - val_loss: 0.0181 - val_accuracy: 0.9936\n",
            "Epoch 30/30\n",
            "2998/2998 [==============================] - 119s 40ms/step - loss: 0.0214 - accuracy: 0.9925 - val_loss: 0.0189 - val_accuracy: 0.9931\n"
          ]
        }
      ]
    },
    {
      "cell_type": "code",
      "source": [
        "final_training_accuracy = history.history['accuracy'][-1]\n",
        "final_testing_accuracy = history.history['val_accuracy'][-1]\n",
        "\n",
        "print(f\"Final Training Accuracy: {final_training_accuracy:.4f}\")\n",
        "print(f\"Final Testing Accuracy: {final_testing_accuracy:.4f}\")"
      ],
      "metadata": {
        "colab": {
          "base_uri": "https://localhost:8080/"
        },
        "id": "QGAfWtdTK86k",
        "outputId": "4eb69283-1844-4703-d6d5-257ed91184e7"
      },
      "execution_count": 28,
      "outputs": [
        {
          "output_type": "stream",
          "name": "stdout",
          "text": [
            "Final Training Accuracy: 0.9925\n",
            "Final Testing Accuracy: 0.9931\n"
          ]
        }
      ]
    }
  ]
}