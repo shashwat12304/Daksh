{
  "nbformat": 4,
  "nbformat_minor": 0,
  "metadata": {
    "colab": {
      "provenance": [],
      "authorship_tag": "ABX9TyM2dqGCSresoTFGpJRuGr6w",
      "include_colab_link": true
    },
    "kernelspec": {
      "name": "python3",
      "display_name": "Python 3"
    },
    "language_info": {
      "name": "python"
    }
  },
  "cells": [
    {
      "cell_type": "markdown",
      "metadata": {
        "id": "view-in-github",
        "colab_type": "text"
      },
      "source": [
        "<a href=\"https://colab.research.google.com/github/shashwat12304/Daksh/blob/main/Rnn-GRU.ipynb\" target=\"_parent\"><img src=\"https://colab.research.google.com/assets/colab-badge.svg\" alt=\"Open In Colab\"/></a>"
      ]
    },
    {
      "cell_type": "code",
      "source": [
        "import numpy as np\n",
        "import tensorflow as tf\n",
        "import matplotlib.pyplot as plt\n",
        "import seaborn as sns\n",
        "from sklearn.feature_selection import mutual_info_classif\n",
        "from tensorflow.keras.models import Sequential\n",
        "from tensorflow.keras.layers import GRU, Dense, Dropout\n",
        "from sklearn.model_selection import train_test_split\n",
        "import pandas as pd\n",
        "from sklearn.preprocessing import StandardScaler\n",
        "import pickle"
      ],
      "metadata": {
        "id": "EKRGsIc10r9k"
      },
      "execution_count": 75,
      "outputs": []
    },
    {
      "cell_type": "code",
      "source": [
        "data = pd.read_csv('NewData.csv')"
      ],
      "metadata": {
        "id": "sJW36Icb0wat"
      },
      "execution_count": 56,
      "outputs": []
    },
    {
      "cell_type": "code",
      "source": [
        "data.shape"
      ],
      "metadata": {
        "colab": {
          "base_uri": "https://localhost:8080/"
        },
        "id": "H64dqO6Z0zkF",
        "outputId": "c2e8891e-72cf-4526-f115-a8990abcd5be"
      },
      "execution_count": 57,
      "outputs": [
        {
          "output_type": "execute_result",
          "data": {
            "text/plain": [
              "(10000, 50)"
            ]
          },
          "metadata": {},
          "execution_count": 57
        }
      ]
    },
    {
      "cell_type": "code",
      "source": [
        "data.info()"
      ],
      "metadata": {
        "colab": {
          "base_uri": "https://localhost:8080/"
        },
        "id": "J5OdmZlU04qT",
        "outputId": "5b75db4b-dc79-480a-d74a-0e919e7c5095"
      },
      "execution_count": 58,
      "outputs": [
        {
          "output_type": "stream",
          "name": "stdout",
          "text": [
            "<class 'pandas.core.frame.DataFrame'>\n",
            "RangeIndex: 10000 entries, 0 to 9999\n",
            "Data columns (total 50 columns):\n",
            " #   Column                              Non-Null Count  Dtype  \n",
            "---  ------                              --------------  -----  \n",
            " 0   id                                  10000 non-null  int64  \n",
            " 1   NumDots                             10000 non-null  int64  \n",
            " 2   SubdomainLevel                      10000 non-null  int64  \n",
            " 3   PathLevel                           10000 non-null  int64  \n",
            " 4   UrlLength                           10000 non-null  int64  \n",
            " 5   NumDash                             10000 non-null  int64  \n",
            " 6   NumDashInHostname                   10000 non-null  int64  \n",
            " 7   AtSymbol                            10000 non-null  int64  \n",
            " 8   TildeSymbol                         10000 non-null  int64  \n",
            " 9   NumUnderscore                       10000 non-null  int64  \n",
            " 10  NumPercent                          10000 non-null  int64  \n",
            " 11  NumQueryComponents                  10000 non-null  int64  \n",
            " 12  NumAmpersand                        10000 non-null  int64  \n",
            " 13  NumHash                             10000 non-null  int64  \n",
            " 14  NumNumericChars                     10000 non-null  int64  \n",
            " 15  NoHttps                             10000 non-null  int64  \n",
            " 16  RandomString                        10000 non-null  int64  \n",
            " 17  IpAddress                           10000 non-null  int64  \n",
            " 18  DomainInSubdomains                  10000 non-null  int64  \n",
            " 19  DomainInPaths                       10000 non-null  int64  \n",
            " 20  HttpsInHostname                     10000 non-null  int64  \n",
            " 21  HostnameLength                      10000 non-null  int64  \n",
            " 22  PathLength                          10000 non-null  int64  \n",
            " 23  QueryLength                         10000 non-null  int64  \n",
            " 24  DoubleSlashInPath                   10000 non-null  int64  \n",
            " 25  NumSensitiveWords                   10000 non-null  int64  \n",
            " 26  EmbeddedBrandName                   10000 non-null  int64  \n",
            " 27  PctExtHyperlinks                    10000 non-null  float64\n",
            " 28  PctExtResourceUrls                  10000 non-null  float64\n",
            " 29  ExtFavicon                          10000 non-null  int64  \n",
            " 30  InsecureForms                       10000 non-null  int64  \n",
            " 31  RelativeFormAction                  10000 non-null  int64  \n",
            " 32  ExtFormAction                       10000 non-null  int64  \n",
            " 33  AbnormalFormAction                  10000 non-null  int64  \n",
            " 34  PctNullSelfRedirectHyperlinks       10000 non-null  float64\n",
            " 35  FrequentDomainNameMismatch          10000 non-null  int64  \n",
            " 36  FakeLinkInStatusBar                 10000 non-null  int64  \n",
            " 37  RightClickDisabled                  10000 non-null  int64  \n",
            " 38  PopUpWindow                         10000 non-null  int64  \n",
            " 39  SubmitInfoToEmail                   10000 non-null  int64  \n",
            " 40  IframeOrFrame                       10000 non-null  int64  \n",
            " 41  MissingTitle                        10000 non-null  int64  \n",
            " 42  ImagesOnlyInForm                    10000 non-null  int64  \n",
            " 43  SubdomainLevelRT                    10000 non-null  int64  \n",
            " 44  UrlLengthRT                         10000 non-null  int64  \n",
            " 45  PctExtResourceUrlsRT                10000 non-null  int64  \n",
            " 46  AbnormalExtFormActionR              10000 non-null  int64  \n",
            " 47  ExtMetaScriptLinkRT                 10000 non-null  int64  \n",
            " 48  PctExtNullSelfRedirectHyperlinksRT  10000 non-null  int64  \n",
            " 49  CLASS_LABEL                         10000 non-null  int64  \n",
            "dtypes: float64(3), int64(47)\n",
            "memory usage: 3.8 MB\n"
          ]
        }
      ]
    },
    {
      "cell_type": "code",
      "source": [
        "data['CLASS_LABEL'].value_counts().plot.bar(color='blue')"
      ],
      "metadata": {
        "colab": {
          "base_uri": "https://localhost:8080/",
          "height": 446
        },
        "id": "0cFcrgDp2njA",
        "outputId": "6ae180c1-8f9b-4b84-a529-6216e3a56bdc"
      },
      "execution_count": 59,
      "outputs": [
        {
          "output_type": "execute_result",
          "data": {
            "text/plain": [
              "<Axes: >"
            ]
          },
          "metadata": {},
          "execution_count": 59
        },
        {
          "output_type": "display_data",
          "data": {
            "text/plain": [
              "<Figure size 640x480 with 1 Axes>"
            ],
            "image/png": "[encoded data removed]"
          },
          "metadata": {}
        }
      ]
    },
    {
      "cell_type": "code",
      "source": [
        "X = dataset.drop(columns=['id', 'CLASS_LABEL','SubdomainLevelRT','UrlLengthRT','PctExtResourceUrlsRT','AbnormalExtFormActionR','ExtMetaScriptLinkRT','PctExtNullSelfRedirectHyperlinksRT'])\n",
        "y = dataset['CLASS_LABEL']\n",
        "print('x:', X)\n",
        "print('y:', y)"
      ],
      "metadata": {
        "colab": {
          "base_uri": "https://localhost:8080/"
        },
        "id": "pjhseFC_09Xw",
        "outputId": "457730b7-95bd-4d50-e190-0702be9b3d19"
      },
      "execution_count": 64,
      "outputs": [
        {
          "output_type": "stream",
          "name": "stdout",
          "text": [
            "x:       NumDots  SubdomainLevel  PathLevel  UrlLength  NumDash  \\\n",
            "0           3               1          5         72        0   \n",
            "1           3               1          3        144        0   \n",
            "2           3               1          2         58        0   \n",
            "3           3               1          6         79        1   \n",
            "4           3               0          4         46        0   \n",
            "...       ...             ...        ...        ...      ...   \n",
            "9995        3               1          1         50        0   \n",
            "9996        2               1          4         59        1   \n",
            "9997        2               1          4         57        0   \n",
            "9998        3               1          1         49        0   \n",
            "9999        3               1          2         52        3   \n",
            "\n",
            "      NumDashInHostname  AtSymbol  TildeSymbol  NumUnderscore  NumPercent  \\\n",
            "0                     0         0            0              0           0   \n",
            "1                     0         0            0              2           0   \n",
            "2                     0         0            0              0           0   \n",
            "3                     0         0            0              0           0   \n",
            "4                     0         0            0              0           0   \n",
            "...                 ...       ...          ...            ...         ...   \n",
            "9995                  0         0            0              0           0   \n",
            "9996                  0         0            0              0           0   \n",
            "9997                  0         0            0              0           0   \n",
            "9998                  0         0            0              0           0   \n",
            "9999                  0         0            0              0           0   \n",
            "\n",
            "      ...  AbnormalFormAction  PctNullSelfRedirectHyperlinks  \\\n",
            "0     ...                   0                       0.000000   \n",
            "1     ...                   0                       0.000000   \n",
            "2     ...                   0                       0.000000   \n",
            "3     ...                   0                       0.000000   \n",
            "4     ...                   0                       0.000000   \n",
            "...   ...                 ...                            ...   \n",
            "9995  ...                   0                       0.000000   \n",
            "9996  ...                   0                       0.129032   \n",
            "9997  ...                   0                       0.056338   \n",
            "9998  ...                   0                       0.000000   \n",
            "9999  ...                   0                       0.004717   \n",
            "\n",
            "      FrequentDomainNameMismatch  FakeLinkInStatusBar  RightClickDisabled  \\\n",
            "0                              0                    0                   0   \n",
            "1                              0                    0                   0   \n",
            "2                              0                    0                   0   \n",
            "3                              1                    0                   0   \n",
            "4                              1                    0                   0   \n",
            "...                          ...                  ...                 ...   \n",
            "9995                           0                    0                   0   \n",
            "9996                           0                    0                   0   \n",
            "9997                           0                    0                   0   \n",
            "9998                           0                    0                   0   \n",
            "9999                           0                    0                   0   \n",
            "\n",
            "      PopUpWindow  SubmitInfoToEmail  IframeOrFrame  MissingTitle  \\\n",
            "0               0                  0              0             0   \n",
            "1               0                  0              0             0   \n",
            "2               0                  0              0             0   \n",
            "3               0                  1              0             0   \n",
            "4               0                  0              1             0   \n",
            "...           ...                ...            ...           ...   \n",
            "9995            0                  0              0             0   \n",
            "9996            0                  0              1             0   \n",
            "9997            0                  0              0             0   \n",
            "9998            0                  0              1             0   \n",
            "9999            0                  0              0             0   \n",
            "\n",
            "      ImagesOnlyInForm  \n",
            "0                    1  \n",
            "1                    0  \n",
            "2                    0  \n",
            "3                    0  \n",
            "4                    0  \n",
            "...                ...  \n",
            "9995                 0  \n",
            "9996                 0  \n",
            "9997                 0  \n",
            "9998                 0  \n",
            "9999                 0  \n",
            "\n",
            "[10000 rows x 42 columns]\n",
            "y: 0       1\n",
            "1       1\n",
            "2       1\n",
            "3       1\n",
            "4       1\n",
            "       ..\n",
            "9995    0\n",
            "9996    0\n",
            "9997    0\n",
            "9998    0\n",
            "9999    0\n",
            "Name: CLASS_LABEL, Length: 10000, dtype: int64\n"
          ]
        }
      ]
    },
    {
      "cell_type": "code",
      "source": [
        "scaler = StandardScaler()\n",
        "X = scaler.fit_transform(X)"
      ],
      "metadata": {
        "id": "fZpLsWW01EWj"
      },
      "execution_count": 65,
      "outputs": []
    },
    {
      "cell_type": "code",
      "source": [
        "X_train, X_test, y_train, y_test = train_test_split(X, y, test_size=0.2, random_state=42)"
      ],
      "metadata": {
        "id": "ZucPOMe31H-Z"
      },
      "execution_count": 66,
      "outputs": []
    },
    {
      "cell_type": "code",
      "source": [
        "model = Sequential([\n",
        "    GRU(64, return_sequences=True, input_shape=(X_train.shape[1], 1)),\n",
        "    Dropout(0.2),\n",
        "    GRU(64),\n",
        "    Dropout(0.2),\n",
        "    Dense(1, activation='sigmoid')\n",
        "])"
      ],
      "metadata": {
        "id": "78VpQYsU1OU5"
      },
      "execution_count": 67,
      "outputs": []
    },
    {
      "cell_type": "code",
      "source": [
        "model.compile(loss='binary_crossentropy', optimizer='adam', metrics=['accuracy'])"
      ],
      "metadata": {
        "id": "0VkzOlQn1UOp"
      },
      "execution_count": 68,
      "outputs": []
    },
    {
      "cell_type": "code",
      "source": [
        "model.summary()"
      ],
      "metadata": {
        "colab": {
          "base_uri": "https://localhost:8080/"
        },
        "id": "OdEgdhmg1Xuq",
        "outputId": "025deffb-a67b-4eb0-cb25-cb7f331c241e"
      },
      "execution_count": 69,
      "outputs": [
        {
          "output_type": "stream",
          "name": "stdout",
          "text": [
            "Model: \"sequential_3\"\n",
            "_________________________________________________________________\n",
            " Layer (type)                Output Shape              Param #   \n",
            "=================================================================\n",
            " gru_6 (GRU)                 (None, 42, 64)            12864     \n",
            "                                                                 \n",
            " dropout_6 (Dropout)         (None, 42, 64)            0         \n",
            "                                                                 \n",
            " gru_7 (GRU)                 (None, 64)                24960     \n",
            "                                                                 \n",
            " dropout_7 (Dropout)         (None, 64)                0         \n",
            "                                                                 \n",
            " dense_3 (Dense)             (None, 1)                 65        \n",
            "                                                                 \n",
            "=================================================================\n",
            "Total params: 37,889\n",
            "Trainable params: 37,889\n",
            "Non-trainable params: 0\n",
            "_________________________________________________________________\n"
          ]
        }
      ]
    },
    {
      "cell_type": "code",
      "source": [
        "X_train_reshaped = X_train.reshape(X_train.shape[0], X_train.shape[1], 1)\n",
        "X_test_reshaped = X_test.reshape(X_test.shape[0], X_test.shape[1], 1)"
      ],
      "metadata": {
        "id": "pPsKdaKa1cub"
      },
      "execution_count": 70,
      "outputs": []
    },
    {
      "cell_type": "code",
      "source": [
        "history = model.fit(X_train_reshaped, y_train, batch_size=64, epochs=10, validation_data=(X_test_reshaped, y_test))"
      ],
      "metadata": {
        "colab": {
          "base_uri": "https://localhost:8080/"
        },
        "id": "ej_UXS3b1d53",
        "outputId": "c610ea60-2796-4c29-f3d6-7c9256951bd6"
      },
      "execution_count": 71,
      "outputs": [
        {
          "output_type": "stream",
          "name": "stdout",
          "text": [
            "Epoch 1/10\n",
            "125/125 [==============================] - 14s 80ms/step - loss: 0.4972 - accuracy: 0.7466 - val_loss: 0.3650 - val_accuracy: 0.8240\n",
            "Epoch 2/10\n",
            "125/125 [==============================] - 10s 77ms/step - loss: 0.3305 - accuracy: 0.8503 - val_loss: 0.3090 - val_accuracy: 0.8610\n",
            "Epoch 3/10\n",
            "125/125 [==============================] - 7s 56ms/step - loss: 0.2870 - accuracy: 0.8785 - val_loss: 0.2671 - val_accuracy: 0.8855\n",
            "Epoch 4/10\n",
            "125/125 [==============================] - 8s 67ms/step - loss: 0.2671 - accuracy: 0.8926 - val_loss: 0.2494 - val_accuracy: 0.8995\n",
            "Epoch 5/10\n",
            "125/125 [==============================] - 8s 65ms/step - loss: 0.2447 - accuracy: 0.9091 - val_loss: 0.2468 - val_accuracy: 0.8935\n",
            "Epoch 6/10\n",
            "125/125 [==============================] - 7s 56ms/step - loss: 0.2334 - accuracy: 0.9125 - val_loss: 0.2135 - val_accuracy: 0.9150\n",
            "Epoch 7/10\n",
            "125/125 [==============================] - 8s 64ms/step - loss: 0.2183 - accuracy: 0.9194 - val_loss: 0.1985 - val_accuracy: 0.9180\n",
            "Epoch 8/10\n",
            "125/125 [==============================] - 7s 58ms/step - loss: 0.2058 - accuracy: 0.9252 - val_loss: 0.1985 - val_accuracy: 0.9165\n",
            "Epoch 9/10\n",
            "125/125 [==============================] - 9s 75ms/step - loss: 0.1953 - accuracy: 0.9271 - val_loss: 0.1774 - val_accuracy: 0.9280\n",
            "Epoch 10/10\n",
            "125/125 [==============================] - 7s 59ms/step - loss: 0.1779 - accuracy: 0.9346 - val_loss: 0.1670 - val_accuracy: 0.9340\n"
          ]
        }
      ]
    },
    {
      "cell_type": "code",
      "source": [
        "loss, accuracy = model.evaluate(X_test_reshaped, y_test)\n",
        "print(f\"Test Loss: {loss:.4f}, Test Accuracy: {accuracy:.4f}\")"
      ],
      "metadata": {
        "colab": {
          "base_uri": "https://localhost:8080/"
        },
        "id": "hjBzoVZl1hrD",
        "outputId": "d5834f12-579d-4064-cda5-f7e5deb4bcbb"
      },
      "execution_count": 72,
      "outputs": [
        {
          "output_type": "stream",
          "name": "stdout",
          "text": [
            "63/63 [==============================] - 1s 14ms/step - loss: 0.1670 - accuracy: 0.9340\n",
            "Test Loss: 0.1670, Test Accuracy: 0.9340\n"
          ]
        }
      ]
    },
    {
      "cell_type": "code",
      "source": [
        "X_test_reshaped = X_test.reshape(X_test.shape[0], X_test.shape[1], 1)"
      ],
      "metadata": {
        "id": "NVD7GmAz6lxE"
      },
      "execution_count": 73,
      "outputs": []
    },
    {
      "cell_type": "code",
      "source": [
        "y_pred = model.predict(X_test_reshaped)\n",
        "y_pred = np.round(y_pred)\n",
        "\n",
        "accuracy = accuracy_score(y_test, y_pred)\n",
        "precision = precision_score(y_test, y_pred)\n",
        "recall = recall_score(y_test, y_pred)\n",
        "f1 = f1_score(y_test, y_pred)\n",
        "\n",
        "data = {'num_of_features': [X_test.shape[1]],\n",
        "        'precision': [precision],\n",
        "        'recall': [recall],\n",
        "        'f1_score': [f1],\n",
        "        'accuracy': [accuracy]}\n",
        "\n",
        "df = pd.DataFrame(data)\n",
        "\n",
        "print(df)"
      ],
      "metadata": {
        "colab": {
          "base_uri": "https://localhost:8080/"
        },
        "id": "sPZua2Lf6tj2",
        "outputId": "12264b0c-9b15-467d-9907-6ade7318aedc"
      },
      "execution_count": 74,
      "outputs": [
        {
          "output_type": "stream",
          "name": "stdout",
          "text": [
            "63/63 [==============================] - 3s 15ms/step\n",
            "   num_of_features  precision    recall  f1_score  accuracy\n",
            "0               42   0.929688  0.940711  0.935167     0.934\n"
          ]
        }
      ]
    },
    {
      "cell_type": "code",
      "source": [
        "with open('rnn_gru_model.pkl', 'wb') as file:\n",
        "    pickle.dump(model, file)\n",
        "\n",
        "with open('rnn_gru_model.pkl', 'rb') as file:\n",
        "    loaded_model = pickle.load(file)\n",
        "\n",
        "y_pred_loaded = loaded_model.predict(X_test_reshaped)\n",
        "y_pred_loaded = np.round(y_pred_loaded)"
      ],
      "metadata": {
        "colab": {
          "base_uri": "https://localhost:8080/"
        },
        "id": "ViP_brM6bz_j",
        "outputId": "ff1ad9b7-16de-4d51-8b2b-301958c1bbd4"
      },
      "execution_count": 80,
      "outputs": [
        {
          "output_type": "stream",
          "name": "stdout",
          "text": [
            "63/63 [==============================] - 4s 25ms/step\n"
          ]
        }
      ]
    },
    {
      "cell_type": "code",
      "source": [
        "print(y_pred_loaded)"
      ],
      "metadata": {
        "colab": {
          "base_uri": "https://localhost:8080/"
        },
        "id": "PAGGPbmwb-Ik",
        "outputId": "c20e8ece-32af-47e1-ac32-ecb5ab82a4b0"
      },
      "execution_count": 81,
      "outputs": [
        {
          "output_type": "stream",
          "name": "stdout",
          "text": [
            "[[0.]\n",
            " [1.]\n",
            " [1.]\n",
            " ...\n",
            " [0.]\n",
            " [1.]\n",
            " [0.]]\n"
          ]
        }
      ]
    }
  ]
}